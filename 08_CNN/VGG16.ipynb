{
  "nbformat": 4,
  "nbformat_minor": 0,
  "metadata": {
    "colab": {
      "provenance": [],
      "gpuType": "T4"
    },
    "kernelspec": {
      "name": "python3",
      "display_name": "Python 3"
    },
    "language_info": {
      "name": "python"
    },
    "accelerator": "GPU"
  },
  "cells": [
    {
      "cell_type": "code",
      "source": [],
      "metadata": {
        "id": "4TWKocWcJ-N5"
      },
      "execution_count": null,
      "outputs": []
    },
    {
      "cell_type": "markdown",
      "source": [
        "# Data Engineering"
      ],
      "metadata": {
        "id": "9aEBdLq7H6YO"
      }
    },
    {
      "cell_type": "markdown",
      "source": [
        "## Import"
      ],
      "metadata": {
        "id": "fVNMKQCuHoCf"
      }
    },
    {
      "cell_type": "code",
      "source": [
        "import os\n",
        "import numpy as np\n",
        "import cv2\n",
        "from zipfile import ZipFile\n",
        "import shutil\n",
        "from sklearn.model_selection import train_test_split"
      ],
      "metadata": {
        "id": "mKvFhu-xHnlA"
      },
      "execution_count": null,
      "outputs": []
    },
    {
      "cell_type": "markdown",
      "source": [
        "## Data"
      ],
      "metadata": {
        "id": "pH7fEsjzHsCu"
      }
    },
    {
      "cell_type": "markdown",
      "source": [
        "load data function"
      ],
      "metadata": {
        "id": "WxhY8I5SKsvD"
      }
    },
    {
      "cell_type": "code",
      "source": [
        "# 폴더로부터 이미지를 불러온다.\n",
        "def image_load(folder, label):\n",
        "    images = []\n",
        "    labels = []\n",
        "    for filename in os.listdir(folder):\n",
        "        img_path = os.path.join(folder, filename)\n",
        "        img = cv2.imread(img_path)\n",
        "        if img is not None:\n",
        "            images.append(img)\n",
        "            if \"climb\" == label:\n",
        "                labels.append(1)\n",
        "            else:\n",
        "                labels.append(0)\n",
        "    return images, labels"
      ],
      "metadata": {
        "id": "Iq9YE7LCKsJg"
      },
      "execution_count": null,
      "outputs": []
    },
    {
      "cell_type": "markdown",
      "source": [
        "True(Climb)"
      ],
      "metadata": {
        "id": "OnctEPcdKetW"
      }
    },
    {
      "cell_type": "code",
      "execution_count": null,
      "metadata": {
        "id": "V1QzJZRUHm7R"
      },
      "outputs": [],
      "source": [
        "climb_images, climb_labels = image_load(\"/content/drive/MyDrive/BabyProject/CV_img_data/True/true_set\", \"climb\")"
      ]
    },
    {
      "cell_type": "markdown",
      "source": [
        "False(not Climb)"
      ],
      "metadata": {
        "id": "ax-Ei5NhKgAC"
      }
    },
    {
      "cell_type": "code",
      "source": [
        "not_climb_images, not_climb_labels = image_load(\"/content/drive/MyDrive/BabyProject/datas/fasle\", \"not climb\")"
      ],
      "metadata": {
        "id": "nzATDyjTLa9u"
      },
      "execution_count": null,
      "outputs": []
    },
    {
      "cell_type": "code",
      "source": [
        "# climb 데이터와 not climb 데이터를 합치기\n",
        "images = climb_images + not_climb_images\n",
        "labels = climb_labels + not_climb_labels"
      ],
      "metadata": {
        "id": "YCsTwXU7oPsM"
      },
      "execution_count": null,
      "outputs": []
    },
    {
      "cell_type": "code",
      "source": [
        "import cv2\n",
        "\n",
        "def resize_images(images, target_size=(224, 224)):\n",
        "    resized_images = []\n",
        "    for img in images:\n",
        "        resized_img = cv2.resize(img, target_size)\n",
        "        resized_images.append(resized_img)\n",
        "    return np.array(resized_images)\n",
        "\n",
        "# 이미지 크기 조정\n",
        "resized_images = resize_images(images)\n",
        "\n",
        "# NumPy 배열로 변환\n",
        "labels = np.array(labels)\n",
        "\n",
        "# 데이터셋 분할 (훈련용:검증용:테스트용 = 0.7:0.15:0.15)\n",
        "train_images, test_images, train_labels, test_labels = train_test_split(resized_images, labels, test_size=0.3, random_state=42)\n",
        "val_images, test_images, val_labels, test_labels = train_test_split(test_images, test_labels, test_size=0.5, random_state=42)\n",
        "\n",
        "# 데이터셋 크기 확인\n",
        "print(\"훈련용 데이터셋 크기:\", train_images.shape)\n",
        "print(\"검증용 데이터셋 크기:\", val_images.shape)\n",
        "print(\"테스트용 데이터셋 크기:\", test_images.shape)"
      ],
      "metadata": {
        "colab": {
          "base_uri": "https://localhost:8080/"
        },
        "id": "NXZwRtlDtwVn",
        "outputId": "30a9c335-9a7f-47f7-c525-52f701c5f515"
      },
      "execution_count": null,
      "outputs": [
        {
          "output_type": "stream",
          "name": "stdout",
          "text": [
            "훈련용 데이터셋 크기: (651, 224, 224, 3)\n",
            "검증용 데이터셋 크기: (139, 224, 224, 3)\n",
            "테스트용 데이터셋 크기: (140, 224, 224, 3)\n"
          ]
        }
      ]
    },
    {
      "cell_type": "markdown",
      "source": [
        "# Preprocessing"
      ],
      "metadata": {
        "id": "86kYjGa0olMn"
      }
    },
    {
      "cell_type": "markdown",
      "source": [
        "기본 전처리"
      ],
      "metadata": {
        "id": "GEENO9KGsNda"
      }
    },
    {
      "cell_type": "code",
      "source": [
        "from keras.applications.vgg16 import preprocess_input\n",
        "\n",
        "# 이미지 크기 조정\n",
        "def resize_images(images, size=(224, 224)):\n",
        "    resized_images = []\n",
        "    for image in images:\n",
        "        resized_image = cv2.resize(image, size)\n",
        "        resized_images.append(resized_image)\n",
        "    return np.array(resized_images)\n",
        "\n",
        "# 이미지 전처리 함수 정의\n",
        "def preprocess_images(images):\n",
        "    # 이미지 크기 조정\n",
        "    resized_images = resize_images(images)\n",
        "    # VGG16 모델에 맞게 입력 이미지 전처리\n",
        "    preprocessed_images = preprocess_input(resized_images)\n",
        "    return preprocessed_images\n",
        "\n",
        "# 이미지 전처리\n",
        "train_images_preprocessed = preprocess_images(train_images)\n",
        "val_images_preprocessed = preprocess_images(val_images)\n",
        "test_images_preprocessed = preprocess_images(test_images)"
      ],
      "metadata": {
        "id": "zo5-vx9eohc1"
      },
      "execution_count": null,
      "outputs": []
    },
    {
      "cell_type": "markdown",
      "source": [
        "# Model"
      ],
      "metadata": {
        "id": "EaerZdYUqXou"
      }
    },
    {
      "cell_type": "markdown",
      "source": [
        "## Import"
      ],
      "metadata": {
        "id": "Mv94PfJxqauK"
      }
    },
    {
      "cell_type": "code",
      "source": [
        "import torch\n",
        "torch.cuda.is_available()"
      ],
      "metadata": {
        "colab": {
          "base_uri": "https://localhost:8080/"
        },
        "id": "KFGJtTTqs724",
        "outputId": "5d02dd17-1f60-4026-e441-9d19244b41a1"
      },
      "execution_count": null,
      "outputs": [
        {
          "output_type": "execute_result",
          "data": {
            "text/plain": [
              "True"
            ]
          },
          "metadata": {},
          "execution_count": 9
        }
      ]
    },
    {
      "cell_type": "code",
      "source": [
        "!nvidia-smi"
      ],
      "metadata": {
        "colab": {
          "base_uri": "https://localhost:8080/"
        },
        "id": "7vWICsuvs9A0",
        "outputId": "6540b9af-8bb9-4174-b3c1-2765729bb5a8"
      },
      "execution_count": null,
      "outputs": [
        {
          "output_type": "stream",
          "name": "stdout",
          "text": [
            "Fri May 17 09:20:46 2024       \n",
            "+---------------------------------------------------------------------------------------+\n",
            "| NVIDIA-SMI 535.104.05             Driver Version: 535.104.05   CUDA Version: 12.2     |\n",
            "|-----------------------------------------+----------------------+----------------------+\n",
            "| GPU  Name                 Persistence-M | Bus-Id        Disp.A | Volatile Uncorr. ECC |\n",
            "| Fan  Temp   Perf          Pwr:Usage/Cap |         Memory-Usage | GPU-Util  Compute M. |\n",
            "|                                         |                      |               MIG M. |\n",
            "|=========================================+======================+======================|\n",
            "|   0  Tesla T4                       Off | 00000000:00:04.0 Off |                    0 |\n",
            "| N/A   49C    P8              10W /  70W |      3MiB / 15360MiB |      0%      Default |\n",
            "|                                         |                      |                  N/A |\n",
            "+-----------------------------------------+----------------------+----------------------+\n",
            "                                                                                         \n",
            "+---------------------------------------------------------------------------------------+\n",
            "| Processes:                                                                            |\n",
            "|  GPU   GI   CI        PID   Type   Process name                            GPU Memory |\n",
            "|        ID   ID                                                             Usage      |\n",
            "|=======================================================================================|\n",
            "|  No running processes found                                                           |\n",
            "+---------------------------------------------------------------------------------------+\n"
          ]
        }
      ]
    },
    {
      "cell_type": "code",
      "source": [
        "from keras.applications import VGG16\n",
        "from keras.models import Model\n",
        "from keras.layers import Dense, Flatten\n",
        "from keras.optimizers import Adam"
      ],
      "metadata": {
        "id": "H0PaNF9MqOAM"
      },
      "execution_count": null,
      "outputs": []
    },
    {
      "cell_type": "code",
      "source": [
        "\n",
        "# VGG16 모델 불러오기\n",
        "base_model = VGG16(weights='imagenet', include_top=False, input_shape=(224, 224, 3))\n",
        "\n",
        "# 새로운 분류층 추가\n",
        "x = base_model.output\n",
        "x = Flatten()(x)\n",
        "x = Dense(256, activation='relu')(x)\n",
        "predictions = Dense(1, activation='sigmoid')(x)\n",
        "\n",
        "# 전체 모델 정의\n",
        "model = Model(inputs=base_model.input, outputs=predictions)\n",
        "\n",
        "# VGG16의 가중치는 고정시키고 새로 추가한 층만 훈련\n",
        "for layer in base_model.layers:\n",
        "    layer.trainable = False\n",
        "\n",
        "# 모델 컴파일\n",
        "model.compile(optimizer=Adam(), loss='binary_crossentropy', metrics=['accuracy'])\n",
        "\n",
        "# 모델 훈련\n",
        "history = model.fit(train_images_preprocessed, train_labels, batch_size=32, epochs=10, validation_data=(val_images_preprocessed, val_labels))\n",
        "\n",
        "# 모델 평가\n",
        "loss, accuracy = model.evaluate(test_images_preprocessed, test_labels)\n",
        "print(\"테스트 데이터셋에서의 손실:\", loss)\n",
        "print(\"테스트 데이터셋에서의 정확도:\", accuracy)\n"
      ],
      "metadata": {
        "colab": {
          "base_uri": "https://localhost:8080/"
        },
        "id": "HPgdgVVhqUy5",
        "outputId": "1a581e91-b225-4364-eb3e-2110d3088b6b"
      },
      "execution_count": null,
      "outputs": [
        {
          "output_type": "stream",
          "name": "stdout",
          "text": [
            "Downloading data from https://storage.googleapis.com/tensorflow/keras-applications/vgg16/vgg16_weights_tf_dim_ordering_tf_kernels_notop.h5\n",
            "58889256/58889256 [==============================] - 3s 0us/step\n",
            "Epoch 1/10\n",
            "21/21 [==============================] - 16s 316ms/step - loss: 1.3146 - accuracy: 0.9462 - val_loss: 0.6028 - val_accuracy: 0.9928\n",
            "Epoch 2/10\n",
            "21/21 [==============================] - 3s 147ms/step - loss: 0.1365 - accuracy: 0.9969 - val_loss: 0.3395 - val_accuracy: 0.9928\n",
            "Epoch 3/10\n",
            "21/21 [==============================] - 3s 155ms/step - loss: 8.9475e-12 - accuracy: 1.0000 - val_loss: 0.2151 - val_accuracy: 0.9928\n",
            "Epoch 4/10\n",
            "21/21 [==============================] - 3s 153ms/step - loss: 2.2389e-04 - accuracy: 1.0000 - val_loss: 0.4223 - val_accuracy: 0.9928\n",
            "Epoch 5/10\n",
            "21/21 [==============================] - 3s 152ms/step - loss: 1.4619e-16 - accuracy: 1.0000 - val_loss: 0.6527 - val_accuracy: 0.9928\n",
            "Epoch 6/10\n",
            "21/21 [==============================] - 3s 153ms/step - loss: 6.7039e-15 - accuracy: 1.0000 - val_loss: 0.6802 - val_accuracy: 0.9928\n",
            "Epoch 7/10\n",
            "21/21 [==============================] - 3s 153ms/step - loss: 9.3460e-15 - accuracy: 1.0000 - val_loss: 0.6835 - val_accuracy: 0.9928\n",
            "Epoch 8/10\n",
            "21/21 [==============================] - 3s 158ms/step - loss: 9.6641e-15 - accuracy: 1.0000 - val_loss: 0.6839 - val_accuracy: 0.9928\n",
            "Epoch 9/10\n",
            "21/21 [==============================] - 3s 163ms/step - loss: 9.7076e-15 - accuracy: 1.0000 - val_loss: 0.6839 - val_accuracy: 0.9928\n",
            "Epoch 10/10\n",
            "21/21 [==============================] - 3s 155ms/step - loss: 9.7240e-15 - accuracy: 1.0000 - val_loss: 0.6839 - val_accuracy: 0.9928\n",
            "5/5 [==============================] - 4s 896ms/step - loss: 0.8828 - accuracy: 0.9786\n",
            "테스트 데이터셋에서의 손실: 0.8828189969062805\n",
            "테스트 데이터셋에서의 정확도: 0.9785714149475098\n"
          ]
        }
      ]
    },
    {
      "cell_type": "code",
      "source": [
        "from sklearn.metrics import precision_score, recall_score, f1_score\n",
        "\n",
        "# 모델 예측\n",
        "predictions = model.predict(test_images_preprocessed)\n",
        "# 확률을 이진 클래스로 변환\n",
        "predictions_binary = np.where(predictions > 0.5, 1, 0)\n",
        "\n",
        "# 정밀도, 재현율, F1 스코어 계산\n",
        "precision = precision_score(test_labels, predictions_binary)\n",
        "recall = recall_score(test_labels, predictions_binary)\n",
        "f1 = f1_score(test_labels, predictions_binary)\n",
        "\n",
        "print(\"정밀도:\", precision)\n",
        "print(\"재현율:\", recall)\n",
        "print(\"F1 스코어:\", f1)\n"
      ],
      "metadata": {
        "colab": {
          "base_uri": "https://localhost:8080/"
        },
        "id": "b-lPw9b3qksw",
        "outputId": "e8145188-e538-46ec-ded7-4a4c2a37704a"
      },
      "execution_count": null,
      "outputs": [
        {
          "output_type": "stream",
          "name": "stdout",
          "text": [
            "5/5 [==============================] - 1s 134ms/step\n",
            "정밀도: 0.9857142857142858\n",
            "재현율: 0.971830985915493\n",
            "F1 스코어: 0.9787234042553192\n"
          ]
        }
      ]
    },
    {
      "cell_type": "markdown",
      "source": [
        "#Sec Model"
      ],
      "metadata": {
        "id": "REWh-f5erYuv"
      }
    },
    {
      "cell_type": "code",
      "source": [
        "from keras.models import Sequential\n",
        "from keras.layers import Conv2D, MaxPooling2D, Flatten, Dense, Dropout\n",
        "\n",
        "# 모델 생성\n",
        "model = Sequential()\n",
        "\n",
        "# Convolutional Layer와 Pooling Layer 추가\n",
        "model.add(Conv2D(32, (3, 3), activation='relu', input_shape=(224, 224, 3)))\n",
        "model.add(MaxPooling2D((2, 2)))\n",
        "model.add(Conv2D(64, (3, 3), activation='relu'))\n",
        "model.add(MaxPooling2D((2, 2)))\n",
        "model.add(Conv2D(128, (3, 3), activation='relu'))\n",
        "model.add(MaxPooling2D((2, 2)))\n",
        "\n",
        "# Fully Connected Layer 추가\n",
        "model.add(Flatten())\n",
        "model.add(Dense(256, activation='relu'))\n",
        "model.add(Dropout(0.5))\n",
        "model.add(Dense(1, activation='sigmoid'))\n",
        "\n",
        "# 모델 컴파일\n",
        "model.compile(optimizer='adam', loss='binary_crossentropy', metrics=['accuracy'])\n",
        "\n",
        "# 모델 구조 출력\n",
        "model.summary()\n"
      ],
      "metadata": {
        "colab": {
          "base_uri": "https://localhost:8080/"
        },
        "id": "TSpok0u_rYAT",
        "outputId": "5d84387e-430f-41f2-e478-8300c6dedd36"
      },
      "execution_count": null,
      "outputs": [
        {
          "output_type": "stream",
          "name": "stdout",
          "text": [
            "Model: \"sequential_3\"\n",
            "_________________________________________________________________\n",
            " Layer (type)                Output Shape              Param #   \n",
            "=================================================================\n",
            " conv2d_9 (Conv2D)           (None, 222, 222, 32)      896       \n",
            "                                                                 \n",
            " max_pooling2d_9 (MaxPoolin  (None, 111, 111, 32)      0         \n",
            " g2D)                                                            \n",
            "                                                                 \n",
            " conv2d_10 (Conv2D)          (None, 109, 109, 64)      18496     \n",
            "                                                                 \n",
            " max_pooling2d_10 (MaxPooli  (None, 54, 54, 64)        0         \n",
            " ng2D)                                                           \n",
            "                                                                 \n",
            " conv2d_11 (Conv2D)          (None, 52, 52, 128)       73856     \n",
            "                                                                 \n",
            " max_pooling2d_11 (MaxPooli  (None, 26, 26, 128)       0         \n",
            " ng2D)                                                           \n",
            "                                                                 \n",
            " flatten_5 (Flatten)         (None, 86528)             0         \n",
            "                                                                 \n",
            " dense_10 (Dense)            (None, 256)               22151424  \n",
            "                                                                 \n",
            " dropout_3 (Dropout)         (None, 256)               0         \n",
            "                                                                 \n",
            " dense_11 (Dense)            (None, 1)                 257       \n",
            "                                                                 \n",
            "=================================================================\n",
            "Total params: 22244929 (84.86 MB)\n",
            "Trainable params: 22244929 (84.86 MB)\n",
            "Non-trainable params: 0 (0.00 Byte)\n",
            "_________________________________________________________________\n"
          ]
        }
      ]
    },
    {
      "cell_type": "code",
      "source": [
        "# 모델 훈련\n",
        "history = model.fit(train_images_preprocessed, train_labels, batch_size=32, epochs=10, validation_data=(val_images_preprocessed, val_labels))\n",
        "\n",
        "# 모델 평가\n",
        "loss, accuracy = model.evaluate(test_images_preprocessed, test_labels)\n",
        "print(\"테스트 데이터셋에서의 손실:\", loss)\n",
        "print(\"테스트 데이터셋에서의 정확도:\", accuracy)\n"
      ],
      "metadata": {
        "colab": {
          "base_uri": "https://localhost:8080/"
        },
        "id": "WquoH3znr92M",
        "outputId": "ea81263f-be51-405c-a9c4-0d728c49c3f9"
      },
      "execution_count": null,
      "outputs": [
        {
          "output_type": "stream",
          "name": "stdout",
          "text": [
            "Epoch 1/10\n",
            "21/21 [==============================] - 6s 110ms/step - loss: 29.4494 - accuracy: 0.7327 - val_loss: 0.4604 - val_accuracy: 0.8201\n",
            "Epoch 2/10\n",
            "21/21 [==============================] - 1s 70ms/step - loss: 0.3116 - accuracy: 0.8817 - val_loss: 0.3147 - val_accuracy: 0.8273\n",
            "Epoch 3/10\n",
            "21/21 [==============================] - 1s 68ms/step - loss: 0.1456 - accuracy: 0.9508 - val_loss: 0.2305 - val_accuracy: 0.8921\n",
            "Epoch 4/10\n",
            "21/21 [==============================] - 1s 71ms/step - loss: 0.0590 - accuracy: 0.9785 - val_loss: 0.3612 - val_accuracy: 0.8993\n",
            "Epoch 5/10\n",
            "21/21 [==============================] - 1s 69ms/step - loss: 0.0779 - accuracy: 0.9800 - val_loss: 1.4922 - val_accuracy: 0.7050\n",
            "Epoch 6/10\n",
            "21/21 [==============================] - 2s 79ms/step - loss: 0.1736 - accuracy: 0.9462 - val_loss: 0.3268 - val_accuracy: 0.8633\n",
            "Epoch 7/10\n",
            "21/21 [==============================] - 2s 80ms/step - loss: 0.0721 - accuracy: 0.9739 - val_loss: 0.1112 - val_accuracy: 0.9496\n",
            "Epoch 8/10\n",
            "21/21 [==============================] - 2s 80ms/step - loss: 0.0607 - accuracy: 0.9846 - val_loss: 0.1817 - val_accuracy: 0.9424\n",
            "Epoch 9/10\n",
            "21/21 [==============================] - 2s 80ms/step - loss: 0.1002 - accuracy: 0.9770 - val_loss: 0.3815 - val_accuracy: 0.8705\n",
            "Epoch 10/10\n",
            "21/21 [==============================] - 1s 69ms/step - loss: 0.0497 - accuracy: 0.9877 - val_loss: 0.2670 - val_accuracy: 0.9424\n",
            "5/5 [==============================] - 0s 23ms/step - loss: 0.7411 - accuracy: 0.8643\n",
            "테스트 데이터셋에서의 손실: 0.7410861253738403\n",
            "테스트 데이터셋에서의 정확도: 0.8642857074737549\n"
          ]
        }
      ]
    },
    {
      "cell_type": "markdown",
      "source": [
        "Canny Edge"
      ],
      "metadata": {
        "id": "xQnVKy38sP8t"
      }
    },
    {
      "cell_type": "code",
      "source": [
        "\n",
        "def preprocess_images_with_edge_detection(images):\n",
        "    preprocessed_images = []\n",
        "    for image in images:\n",
        "        # 이미지를 흑백으로 변환\n",
        "        gray = cv2.cvtColor(image, cv2.COLOR_BGR2GRAY)\n",
        "        # Canny 에지 검출을 통해 에지 감지\n",
        "        edges = cv2.Canny(gray, threshold1=30, threshold2=100)\n",
        "        # 에지 이미지를 원본 이미지와 결합하여 새로운 이미지 생성\n",
        "        edge_image = np.dstack([edges] * 3)\n",
        "        preprocessed_images.append(edge_image)\n",
        "    return np.array(preprocessed_images)\n",
        "\n",
        "# 이미지 전처리\n",
        "train_images_preprocessed_with_edge = preprocess_images_with_edge_detection(train_images)\n",
        "val_images_preprocessed_with_edge = preprocess_images_with_edge_detection(val_images)\n",
        "test_images_preprocessed_with_edge = preprocess_images_with_edge_detection(test_images)\n"
      ],
      "metadata": {
        "id": "3GX6IH383mUi"
      },
      "execution_count": null,
      "outputs": []
    },
    {
      "cell_type": "code",
      "source": [
        "# 모델 생성\n",
        "model = Sequential()\n",
        "\n",
        "# Convolutional Layer와 Pooling Layer 추가\n",
        "model.add(Conv2D(32, (3, 3), activation='relu', input_shape=(224, 224, 3)))\n",
        "model.add(MaxPooling2D((2, 2)))\n",
        "model.add(Conv2D(64, (3, 3), activation='relu'))\n",
        "model.add(MaxPooling2D((2, 2)))\n",
        "model.add(Conv2D(128, (3, 3), activation='relu'))\n",
        "model.add(MaxPooling2D((2, 2)))\n",
        "\n",
        "# Fully Connected Layer 추가\n",
        "model.add(Flatten())\n",
        "model.add(Dense(256, activation='relu'))\n",
        "model.add(Dropout(0.5))\n",
        "model.add(Dense(1, activation='sigmoid'))\n",
        "\n",
        "# 모델 컴파일\n",
        "model.compile(optimizer='adam', loss='binary_crossentropy', metrics=['accuracy'])\n",
        "\n",
        "# 모델 훈련\n",
        "history = model.fit(train_images_preprocessed_with_edge, train_labels, batch_size=32, epochs=50, validation_data=(val_images_preprocessed_with_edge, val_labels))\n",
        "\n",
        "# 모델 평가\n",
        "loss, accuracy = model.evaluate(test_images_preprocessed_with_edge, test_labels)\n",
        "print(\"테스트 데이터셋에서의 손실:\", loss)\n",
        "print(\"테스트 데이터셋에서의 정확도:\", accuracy)\n",
        "\n",
        "# 예측 수행\n",
        "predictions = model.predict(test_images)\n",
        "predictions = (predictions > 0.55).astype(int)  # 임계값 0.6 적용\n",
        "\n",
        "# F1 스코어 계산\n",
        "f1 = f1_score(test_labels, predictions)\n",
        "print(\"테스트 데이터셋에서의 F1 스코어:\", f1)"
      ],
      "metadata": {
        "colab": {
          "base_uri": "https://localhost:8080/"
        },
        "id": "4tE3ma6vsTF0",
        "outputId": "04b63306-560c-4ad7-b273-1aec63d05f8f"
      },
      "execution_count": null,
      "outputs": [
        {
          "output_type": "stream",
          "name": "stdout",
          "text": [
            "Epoch 1/50\n",
            "21/21 [==============================] - 4s 68ms/step - loss: 272.1466 - accuracy: 0.6344 - val_loss: 0.4115 - val_accuracy: 0.8273\n",
            "Epoch 2/50\n",
            "21/21 [==============================] - 1s 53ms/step - loss: 0.2787 - accuracy: 0.9078 - val_loss: 0.2841 - val_accuracy: 0.8777\n",
            "Epoch 3/50\n",
            "21/21 [==============================] - 1s 52ms/step - loss: 0.0967 - accuracy: 0.9754 - val_loss: 0.2779 - val_accuracy: 0.9065\n",
            "Epoch 4/50\n",
            "21/21 [==============================] - 1s 49ms/step - loss: 0.0416 - accuracy: 0.9877 - val_loss: 0.2729 - val_accuracy: 0.9065\n",
            "Epoch 5/50\n",
            "21/21 [==============================] - 1s 49ms/step - loss: 0.0224 - accuracy: 1.0000 - val_loss: 0.2830 - val_accuracy: 0.9137\n",
            "Epoch 6/50\n",
            "21/21 [==============================] - 1s 49ms/step - loss: 0.0245 - accuracy: 0.9939 - val_loss: 0.3444 - val_accuracy: 0.8993\n",
            "Epoch 7/50\n",
            "21/21 [==============================] - 1s 49ms/step - loss: 0.0237 - accuracy: 0.9939 - val_loss: 0.4401 - val_accuracy: 0.8993\n",
            "Epoch 8/50\n",
            "21/21 [==============================] - 1s 49ms/step - loss: 0.0120 - accuracy: 0.9969 - val_loss: 0.4144 - val_accuracy: 0.8705\n",
            "Epoch 9/50\n",
            "21/21 [==============================] - 1s 49ms/step - loss: 0.0068 - accuracy: 0.9985 - val_loss: 0.5183 - val_accuracy: 0.8921\n",
            "Epoch 10/50\n",
            "21/21 [==============================] - 1s 50ms/step - loss: 0.0073 - accuracy: 0.9969 - val_loss: 0.4597 - val_accuracy: 0.9137\n",
            "Epoch 11/50\n",
            "21/21 [==============================] - 1s 50ms/step - loss: 0.0052 - accuracy: 1.0000 - val_loss: 0.4260 - val_accuracy: 0.9137\n",
            "Epoch 12/50\n",
            "21/21 [==============================] - 1s 50ms/step - loss: 0.0044 - accuracy: 1.0000 - val_loss: 0.6753 - val_accuracy: 0.8777\n",
            "Epoch 13/50\n",
            "21/21 [==============================] - 1s 51ms/step - loss: 0.0067 - accuracy: 0.9985 - val_loss: 0.4672 - val_accuracy: 0.9065\n",
            "Epoch 14/50\n",
            "21/21 [==============================] - 1s 52ms/step - loss: 0.0033 - accuracy: 1.0000 - val_loss: 0.7115 - val_accuracy: 0.8849\n",
            "Epoch 15/50\n",
            "21/21 [==============================] - 1s 53ms/step - loss: 0.0033 - accuracy: 1.0000 - val_loss: 0.5217 - val_accuracy: 0.9209\n",
            "Epoch 16/50\n",
            "21/21 [==============================] - 1s 53ms/step - loss: 0.0020 - accuracy: 1.0000 - val_loss: 0.5994 - val_accuracy: 0.9065\n",
            "Epoch 17/50\n",
            "21/21 [==============================] - 1s 50ms/step - loss: 0.0021 - accuracy: 1.0000 - val_loss: 0.6293 - val_accuracy: 0.9065\n",
            "Epoch 18/50\n",
            "21/21 [==============================] - 1s 50ms/step - loss: 9.1728e-04 - accuracy: 1.0000 - val_loss: 0.5958 - val_accuracy: 0.9065\n",
            "Epoch 19/50\n",
            "21/21 [==============================] - 1s 50ms/step - loss: 7.3589e-04 - accuracy: 1.0000 - val_loss: 0.5536 - val_accuracy: 0.9065\n",
            "Epoch 20/50\n",
            "21/21 [==============================] - 1s 50ms/step - loss: 0.0056 - accuracy: 0.9969 - val_loss: 0.5144 - val_accuracy: 0.8777\n",
            "Epoch 21/50\n",
            "21/21 [==============================] - 1s 50ms/step - loss: 0.0024 - accuracy: 1.0000 - val_loss: 0.6647 - val_accuracy: 0.8921\n",
            "Epoch 22/50\n",
            "21/21 [==============================] - 1s 50ms/step - loss: 0.0117 - accuracy: 0.9969 - val_loss: 0.5451 - val_accuracy: 0.8777\n",
            "Epoch 23/50\n",
            "21/21 [==============================] - 1s 50ms/step - loss: 0.0093 - accuracy: 0.9969 - val_loss: 0.6185 - val_accuracy: 0.9065\n",
            "Epoch 24/50\n",
            "21/21 [==============================] - 1s 50ms/step - loss: 0.0056 - accuracy: 1.0000 - val_loss: 0.7043 - val_accuracy: 0.8777\n",
            "Epoch 25/50\n",
            "21/21 [==============================] - 1s 50ms/step - loss: 0.0143 - accuracy: 0.9923 - val_loss: 0.8722 - val_accuracy: 0.8777\n",
            "Epoch 26/50\n",
            "21/21 [==============================] - 1s 52ms/step - loss: 0.0676 - accuracy: 0.9892 - val_loss: 0.5606 - val_accuracy: 0.8705\n",
            "Epoch 27/50\n",
            "21/21 [==============================] - 1s 54ms/step - loss: 0.0132 - accuracy: 0.9985 - val_loss: 0.4739 - val_accuracy: 0.8705\n",
            "Epoch 28/50\n",
            "21/21 [==============================] - 1s 54ms/step - loss: 0.0102 - accuracy: 0.9985 - val_loss: 0.5504 - val_accuracy: 0.8705\n",
            "Epoch 29/50\n",
            "21/21 [==============================] - 1s 52ms/step - loss: 0.0075 - accuracy: 0.9985 - val_loss: 0.6460 - val_accuracy: 0.8489\n",
            "Epoch 30/50\n",
            "21/21 [==============================] - 1s 50ms/step - loss: 0.0160 - accuracy: 0.9954 - val_loss: 0.6116 - val_accuracy: 0.9065\n",
            "Epoch 31/50\n",
            "21/21 [==============================] - 1s 50ms/step - loss: 0.0149 - accuracy: 0.9954 - val_loss: 0.6124 - val_accuracy: 0.8705\n",
            "Epoch 32/50\n",
            "21/21 [==============================] - 1s 50ms/step - loss: 0.0062 - accuracy: 1.0000 - val_loss: 0.6733 - val_accuracy: 0.8705\n",
            "Epoch 33/50\n",
            "21/21 [==============================] - 1s 50ms/step - loss: 0.0054 - accuracy: 1.0000 - val_loss: 0.6514 - val_accuracy: 0.8849\n",
            "Epoch 34/50\n",
            "21/21 [==============================] - 1s 50ms/step - loss: 0.0048 - accuracy: 1.0000 - val_loss: 0.6495 - val_accuracy: 0.8849\n",
            "Epoch 35/50\n",
            "21/21 [==============================] - 1s 49ms/step - loss: 0.0052 - accuracy: 1.0000 - val_loss: 0.6741 - val_accuracy: 0.8921\n",
            "Epoch 36/50\n",
            "21/21 [==============================] - 1s 50ms/step - loss: 0.0040 - accuracy: 1.0000 - val_loss: 0.7231 - val_accuracy: 0.8921\n",
            "Epoch 37/50\n",
            "21/21 [==============================] - 1s 49ms/step - loss: 0.0034 - accuracy: 1.0000 - val_loss: 0.7439 - val_accuracy: 0.8921\n",
            "Epoch 38/50\n",
            "21/21 [==============================] - 1s 50ms/step - loss: 0.0037 - accuracy: 1.0000 - val_loss: 0.7563 - val_accuracy: 0.8921\n",
            "Epoch 39/50\n",
            "21/21 [==============================] - 1s 51ms/step - loss: 0.0029 - accuracy: 1.0000 - val_loss: 0.7714 - val_accuracy: 0.8993\n",
            "Epoch 40/50\n",
            "21/21 [==============================] - 1s 52ms/step - loss: 0.0028 - accuracy: 1.0000 - val_loss: 0.7888 - val_accuracy: 0.8921\n",
            "Epoch 41/50\n",
            "21/21 [==============================] - 1s 53ms/step - loss: 0.0026 - accuracy: 1.0000 - val_loss: 0.8038 - val_accuracy: 0.8993\n",
            "Epoch 42/50\n",
            "21/21 [==============================] - 1s 51ms/step - loss: 0.0017 - accuracy: 1.0000 - val_loss: 0.8157 - val_accuracy: 0.8993\n",
            "Epoch 43/50\n",
            "21/21 [==============================] - 1s 50ms/step - loss: 0.0016 - accuracy: 1.0000 - val_loss: 0.8288 - val_accuracy: 0.9065\n",
            "Epoch 44/50\n",
            "21/21 [==============================] - 1s 49ms/step - loss: 0.0013 - accuracy: 1.0000 - val_loss: 0.8464 - val_accuracy: 0.9065\n",
            "Epoch 45/50\n",
            "21/21 [==============================] - 1s 49ms/step - loss: 0.0025 - accuracy: 1.0000 - val_loss: 0.8681 - val_accuracy: 0.8921\n",
            "Epoch 46/50\n",
            "21/21 [==============================] - 1s 49ms/step - loss: 8.9812e-04 - accuracy: 1.0000 - val_loss: 0.9460 - val_accuracy: 0.9137\n",
            "Epoch 47/50\n",
            "21/21 [==============================] - 1s 50ms/step - loss: 6.9790e-04 - accuracy: 1.0000 - val_loss: 0.8900 - val_accuracy: 0.8921\n",
            "Epoch 48/50\n",
            "21/21 [==============================] - 1s 50ms/step - loss: 7.1700e-04 - accuracy: 1.0000 - val_loss: 0.8676 - val_accuracy: 0.8921\n",
            "Epoch 49/50\n",
            "21/21 [==============================] - 1s 50ms/step - loss: 0.0017 - accuracy: 1.0000 - val_loss: 0.8336 - val_accuracy: 0.8849\n",
            "Epoch 50/50\n",
            "21/21 [==============================] - 1s 49ms/step - loss: 3.9501e-04 - accuracy: 1.0000 - val_loss: 0.9129 - val_accuracy: 0.8993\n",
            "5/5 [==============================] - 0s 12ms/step - loss: 0.6406 - accuracy: 0.9214\n",
            "테스트 데이터셋에서의 손실: 0.6405852437019348\n",
            "테스트 데이터셋에서의 정확도: 0.9214285612106323\n",
            "5/5 [==============================] - 0s 10ms/step\n",
            "테스트 데이터셋에서의 F1 스코어: 0.7294117647058824\n"
          ]
        }
      ]
    },
    {
      "cell_type": "code",
      "source": [
        "from sklearn.metrics import precision_score, recall_score, f1_score\n",
        "\n",
        "# 모델 예측\n",
        "predictions = model.predict(test_images_preprocessed_with_edge)\n",
        "# 확률을 이진 클래스로 변환\n",
        "predictions_binary = np.where(predictions > 0.55, 1, 0)\n",
        "\n",
        "# 정밀도, 재현율, F1 스코어 계산\n",
        "precision = precision_score(test_labels, predictions_binary)\n",
        "recall = recall_score(test_labels, predictions_binary)\n",
        "f1 = f1_score(test_labels, predictions_binary)\n",
        "\n",
        "print(\"정밀도:\", precision)\n",
        "print(\"재현율:\", recall)\n",
        "print(\"F1 스코어:\", f1)\n"
      ],
      "metadata": {
        "colab": {
          "base_uri": "https://localhost:8080/"
        },
        "id": "ly1plECy6w5G",
        "outputId": "9b6a9b1a-5ce4-4ed7-eba5-21d592981730"
      },
      "execution_count": null,
      "outputs": [
        {
          "output_type": "stream",
          "name": "stdout",
          "text": [
            "5/5 [==============================] - 0s 15ms/step\n",
            "정밀도: 0.9545454545454546\n",
            "재현율: 0.8873239436619719\n",
            "F1 스코어: 0.9197080291970803\n"
          ]
        }
      ]
    },
    {
      "cell_type": "code",
      "source": [
        "import matplotlib.pyplot as plt\n",
        "\n",
        "# 훈련 및 검증 손실 시각화\n",
        "def plot_loss(history):\n",
        "    plt.plot(history.history['loss'], label='Train loss')\n",
        "    plt.plot(history.history['val_loss'], label='Validation loss')\n",
        "    plt.title('Training and Validation Loss')\n",
        "    plt.xlabel('Epochs')\n",
        "    plt.ylabel('Loss')\n",
        "    plt.legend()\n",
        "    plt.show()\n",
        "\n",
        "# 훈련 및 검증 정확도 시각화\n",
        "def plot_accuracy(history):\n",
        "    plt.plot(history.history['accuracy'], label='Train accuracy')\n",
        "    plt.plot(history.history['val_accuracy'], label='Validation accuracy')\n",
        "    plt.title('Training and Validation Accuracy')\n",
        "    plt.xlabel('Epochs')\n",
        "    plt.ylabel('Accuracy')\n",
        "    plt.legend()\n",
        "    plt.show()\n",
        "\n",
        "# 모델 훈련 후 시각화\n",
        "plot_loss(history)\n",
        "plot_accuracy(history)\n"
      ],
      "metadata": {
        "colab": {
          "base_uri": "https://localhost:8080/",
          "height": 927
        },
        "id": "dZ_iWMU-ut_w",
        "outputId": "aa4f2601-a7f5-4ed1-8137-0a77ffd5df36"
      },
      "execution_count": null,
      "outputs": [
        {
          "output_type": "display_data",
          "data": {
            "text/plain": [
              "<Figure size 640x480 with 1 Axes>"
            ],
            "image/png": "[encoded data removed]"
          },
          "metadata": {}
        },
        {
          "output_type": "display_data",
          "data": {
            "text/plain": [
              "<Figure size 640x480 with 1 Axes>"
            ],
            "image/png": "[encoded data removed]"
          },
          "metadata": {}
        }
      ]
    },
    {
      "cell_type": "code",
      "source": [
        "# VGG16 모델 불러오기\n",
        "base_model = VGG16(weights='imagenet', include_top=False, input_shape=(224, 224, 3))\n",
        "\n",
        "# 새로운 분류층 추가\n",
        "x = base_model.output\n",
        "x = Flatten()(x)\n",
        "x = Dense(256, activation='relu')(x)\n",
        "predictions = Dense(1, activation='sigmoid')(x)\n",
        "\n",
        "# 전체 모델 정의\n",
        "model = Model(inputs=base_model.input, outputs=predictions)\n",
        "\n",
        "# VGG16의 가중치는 고정시키고 새로 추가한 층만 훈련\n",
        "for layer in base_model.layers:\n",
        "    layer.trainable = False\n",
        "\n",
        "# 모델 컴파일\n",
        "model.compile(optimizer=Adam(), loss='binary_crossentropy', metrics=['accuracy'])\n",
        "\n",
        "# 모델 훈련\n",
        "history = model.fit(train_images_preprocessed, train_labels, batch_size=32, epochs=10, validation_data=(val_images_preprocessed, val_labels))\n",
        "\n",
        "# 모델 평가\n",
        "loss, accuracy = model.evaluate(test_images_preprocessed, test_labels)\n",
        "print(\"테스트 데이터셋에서의 손실:\", loss)\n",
        "print(\"테스트 데이터셋에서의 정확도:\", accuracy)\n"
      ],
      "metadata": {
        "colab": {
          "base_uri": "https://localhost:8080/"
        },
        "id": "Xr1POJ7208Ds",
        "outputId": "6bb92de5-f183-4a8c-aa40-1bfe2b73e274"
      },
      "execution_count": null,
      "outputs": [
        {
          "output_type": "stream",
          "name": "stdout",
          "text": [
            "Epoch 1/10\n",
            "21/21 [==============================] - 5s 181ms/step - loss: 1.9714 - accuracy: 0.9478 - val_loss: 0.6547 - val_accuracy: 0.9928\n",
            "Epoch 2/10\n",
            "21/21 [==============================] - 3s 162ms/step - loss: 0.3637 - accuracy: 0.9969 - val_loss: 0.4640 - val_accuracy: 0.9928\n",
            "Epoch 3/10\n",
            "21/21 [==============================] - 3s 168ms/step - loss: 8.5640e-13 - accuracy: 1.0000 - val_loss: 0.6580 - val_accuracy: 0.9928\n",
            "Epoch 4/10\n",
            "21/21 [==============================] - 4s 170ms/step - loss: 2.1740e-12 - accuracy: 1.0000 - val_loss: 0.6832 - val_accuracy: 0.9928\n",
            "Epoch 5/10\n",
            "21/21 [==============================] - 4s 202ms/step - loss: 2.7589e-11 - accuracy: 1.0000 - val_loss: 0.6864 - val_accuracy: 0.9928\n",
            "Epoch 6/10\n",
            "21/21 [==============================] - 4s 203ms/step - loss: 2.8930e-11 - accuracy: 1.0000 - val_loss: 0.6867 - val_accuracy: 0.9928\n",
            "Epoch 7/10\n",
            "21/21 [==============================] - 4s 173ms/step - loss: 2.9850e-11 - accuracy: 1.0000 - val_loss: 0.6868 - val_accuracy: 0.9928\n",
            "Epoch 8/10\n",
            "21/21 [==============================] - 4s 171ms/step - loss: 2.9868e-11 - accuracy: 1.0000 - val_loss: 0.6868 - val_accuracy: 0.9928\n",
            "Epoch 9/10\n",
            "21/21 [==============================] - 4s 174ms/step - loss: 2.9873e-11 - accuracy: 1.0000 - val_loss: 0.6868 - val_accuracy: 0.9928\n",
            "Epoch 10/10\n",
            "21/21 [==============================] - 4s 177ms/step - loss: 2.9873e-11 - accuracy: 1.0000 - val_loss: 0.6868 - val_accuracy: 0.9928\n",
            "5/5 [==============================] - 1s 125ms/step - loss: 0.2367 - accuracy: 0.9857\n",
            "테스트 데이터셋에서의 손실: 0.23670943081378937\n",
            "테스트 데이터셋에서의 정확도: 0.9857142567634583\n"
          ]
        }
      ]
    },
    {
      "cell_type": "code",
      "source": [
        "from sklearn.metrics import precision_score, recall_score, f1_score\n",
        "\n",
        "# 모델 예측\n",
        "predictions = model.predict(test_images_preprocessed)\n",
        "# 확률을 이진 클래스로 변환\n",
        "predictions_binary = np.where(predictions > 0.5, 1, 0)\n",
        "\n",
        "# 정밀도, 재현율, F1 스코어 계산\n",
        "precision = precision_score(test_labels, predictions_binary)\n",
        "recall = recall_score(test_labels, predictions_binary)\n",
        "f1 = f1_score(test_labels, predictions_binary)\n",
        "\n",
        "print(\"정밀도:\", precision)\n",
        "print(\"재현율:\", recall)\n",
        "print(\"F1 스코어:\", f1)\n"
      ],
      "metadata": {
        "colab": {
          "base_uri": "https://localhost:8080/"
        },
        "id": "8SMnIDDf4jXC",
        "outputId": "2cd36635-7807-47cb-f017-1567d7f34e5a"
      },
      "execution_count": null,
      "outputs": [
        {
          "output_type": "stream",
          "name": "stdout",
          "text": [
            "5/5 [==============================] - 1s 130ms/step\n",
            "정밀도: 1.0\n",
            "재현율: 0.971830985915493\n",
            "F1 스코어: 0.9857142857142858\n"
          ]
        }
      ]
    }
  ]
}