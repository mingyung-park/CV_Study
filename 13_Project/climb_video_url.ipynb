{
 "cells": [
  {
   "cell_type": "code",
   "execution_count": 3,
   "id": "fe966af5",
   "metadata": {
    "scrolled": true
   },
   "outputs": [
    {
     "name": "stdout",
     "output_type": "stream",
     "text": [
      "Collecting selenium\n",
      "  Downloading selenium-4.18.1-py3-none-any.whl (10.0 MB)\n",
      "     ---------------------------------------- 0.0/10.0 MB ? eta -:--:--\n",
      "     - -------------------------------------- 0.5/10.0 MB 10.0 MB/s eta 0:00:01\n",
      "     --- ------------------------------------ 1.0/10.0 MB 10.2 MB/s eta 0:00:01\n",
      "     ------ --------------------------------- 1.5/10.0 MB 10.8 MB/s eta 0:00:01\n",
      "     -------- ------------------------------- 2.0/10.0 MB 10.9 MB/s eta 0:00:01\n",
      "     ---------- ----------------------------- 2.7/10.0 MB 11.5 MB/s eta 0:00:01\n",
      "     ------------ --------------------------- 3.2/10.0 MB 11.2 MB/s eta 0:00:01\n",
      "     --------------- ------------------------ 3.9/10.0 MB 11.8 MB/s eta 0:00:01\n",
      "     ----------------- ---------------------- 4.4/10.0 MB 11.8 MB/s eta 0:00:01\n",
      "     -------------------- ------------------- 5.2/10.0 MB 12.3 MB/s eta 0:00:01\n",
      "     ----------------------- ---------------- 5.9/10.0 MB 12.5 MB/s eta 0:00:01\n",
      "     -------------------------- ------------- 6.6/10.0 MB 12.7 MB/s eta 0:00:01\n",
      "     ----------------------------- ---------- 7.3/10.0 MB 12.9 MB/s eta 0:00:01\n",
      "     -------------------------------- ------- 8.0/10.0 MB 13.2 MB/s eta 0:00:01\n",
      "     ---------------------------------- ----- 8.7/10.0 MB 13.3 MB/s eta 0:00:01\n",
      "     ------------------------------------- -- 9.4/10.0 MB 13.4 MB/s eta 0:00:01\n",
      "     ---------------------------------------  9.9/10.0 MB 13.2 MB/s eta 0:00:01\n",
      "     --------------------------------------  10.0/10.0 MB 13.3 MB/s eta 0:00:01\n",
      "     --------------------------------------- 10.0/10.0 MB 12.6 MB/s eta 0:00:00\n",
      "Collecting trio-websocket~=0.9\n",
      "  Downloading trio_websocket-0.11.1-py3-none-any.whl (17 kB)\n",
      "Requirement already satisfied: typing_extensions>=4.9.0 in c:\\users\\user\\anaconda3\\envs\\pytorch_env\\lib\\site-packages (from selenium) (4.9.0)\n",
      "Requirement already satisfied: urllib3[socks]<3,>=1.26 in c:\\users\\user\\anaconda3\\envs\\pytorch_env\\lib\\site-packages (from selenium) (1.26.15)\n",
      "Requirement already satisfied: certifi>=2021.10.8 in c:\\users\\user\\anaconda3\\envs\\pytorch_env\\lib\\site-packages (from selenium) (2024.2.2)\n",
      "Collecting trio~=0.17\n",
      "  Downloading trio-0.24.0-py3-none-any.whl (460 kB)\n",
      "     ---------------------------------------- 0.0/460.2 kB ? eta -:--:--\n",
      "     ------------------------------------- 460.2/460.2 kB 14.5 MB/s eta 0:00:00\n",
      "Requirement already satisfied: sniffio>=1.3.0 in c:\\users\\user\\anaconda3\\envs\\pytorch_env\\lib\\site-packages (from trio~=0.17->selenium) (1.3.0)\n",
      "Collecting outcome\n",
      "  Downloading outcome-1.3.0.post0-py2.py3-none-any.whl (10 kB)\n",
      "Requirement already satisfied: exceptiongroup in c:\\users\\user\\anaconda3\\envs\\pytorch_env\\lib\\site-packages (from trio~=0.17->selenium) (1.1.3)\n",
      "Requirement already satisfied: attrs>=20.1.0 in c:\\users\\user\\anaconda3\\envs\\pytorch_env\\lib\\site-packages (from trio~=0.17->selenium) (23.1.0)\n",
      "Requirement already satisfied: cffi>=1.14 in c:\\users\\user\\anaconda3\\envs\\pytorch_env\\lib\\site-packages (from trio~=0.17->selenium) (1.15.1)\n",
      "Collecting sortedcontainers\n",
      "  Downloading sortedcontainers-2.4.0-py2.py3-none-any.whl (29 kB)\n",
      "Requirement already satisfied: idna in c:\\users\\user\\anaconda3\\envs\\pytorch_env\\lib\\site-packages (from trio~=0.17->selenium) (3.4)\n",
      "Collecting wsproto>=0.14\n",
      "  Downloading wsproto-1.2.0-py3-none-any.whl (24 kB)\n",
      "Requirement already satisfied: PySocks!=1.5.7,<2.0,>=1.5.6 in c:\\users\\user\\anaconda3\\envs\\pytorch_env\\lib\\site-packages (from urllib3[socks]<3,>=1.26->selenium) (1.7.1)\n",
      "Requirement already satisfied: pycparser in c:\\users\\user\\anaconda3\\envs\\pytorch_env\\lib\\site-packages (from cffi>=1.14->trio~=0.17->selenium) (2.21)\n",
      "Collecting h11<1,>=0.9.0\n",
      "  Using cached h11-0.14.0-py3-none-any.whl (58 kB)\n",
      "Installing collected packages: sortedcontainers, outcome, h11, wsproto, trio, trio-websocket, selenium\n",
      "Successfully installed h11-0.14.0 outcome-1.3.0.post0 selenium-4.18.1 sortedcontainers-2.4.0 trio-0.24.0 trio-websocket-0.11.1 wsproto-1.2.0\n"
     ]
    }
   ],
   "source": [
    "!pip install -U selenium"
   ]
  },
  {
   "cell_type": "code",
   "execution_count": 44,
   "id": "c7491f9e",
   "metadata": {
    "scrolled": false
   },
   "outputs": [
    {
     "name": "stdout",
     "output_type": "stream",
     "text": [
      "Requirement already satisfied: beautifulsoup4 in c:\\users\\user\\anaconda3\\envs\\pytorch_env\\lib\\site-packages (4.12.2)\n",
      "Requirement already satisfied: soupsieve>1.2 in c:\\users\\user\\anaconda3\\envs\\pytorch_env\\lib\\site-packages (from beautifulsoup4) (2.5)\n"
     ]
    }
   ],
   "source": [
    "!pip install beautifulsoup4"
   ]
  },
  {
   "cell_type": "code",
   "execution_count": 154,
   "id": "f7d19671",
   "metadata": {},
   "outputs": [
    {
     "name": "stdout",
     "output_type": "stream",
     "text": [
      "Collecting pytube\n",
      "  Downloading pytube-15.0.0-py3-none-any.whl (57 kB)\n",
      "     ---------------------------------------- 0.0/57.6 kB ? eta -:--:--\n",
      "     ---------------------------------------- 57.6/57.6 kB 3.0 MB/s eta 0:00:00\n",
      "Installing collected packages: pytube\n",
      "Successfully installed pytube-15.0.0\n"
     ]
    }
   ],
   "source": [
    "!pip install pytube"
   ]
  },
  {
   "cell_type": "code",
   "execution_count": 155,
   "id": "3a655cf3",
   "metadata": {},
   "outputs": [
    {
     "name": "stdout",
     "output_type": "stream",
     "text": [
      "C:\\Users\\USER\\Desktop\\GitHubCode\\CVTeam\\Project\n"
     ]
    }
   ],
   "source": [
    "cd \"C:\\Users\\USER\\Desktop\\GitHubCode\\CVTeam\\Project\""
   ]
  },
  {
   "cell_type": "markdown",
   "id": "ca84eed9",
   "metadata": {},
   "source": [
    "---\n",
    "# Code"
   ]
  },
  {
   "cell_type": "code",
   "execution_count": 172,
   "id": "5153e9ef",
   "metadata": {},
   "outputs": [],
   "source": [
    "import pandas as pd\n",
    "import numpy as np\n",
    "from pytube import YouTube\n",
    "from bs4 import BeautifulSoup\n",
    "from selenium import webdriver\n",
    "from selenium.webdriver import Chrome\n",
    "from selenium.webdriver.common.keys import Keys\n",
    "from selenium.webdriver.chrome.options import Options\n",
    "from selenium.webdriver.chrome.service import Service\n",
    "from selenium.webdriver.common.by import By\n",
    "from selenium.webdriver.common.keys import Keys\n",
    "import time\n",
    "import datetime as dt"
   ]
  },
  {
   "cell_type": "code",
   "execution_count": 173,
   "id": "9cbebd65",
   "metadata": {},
   "outputs": [],
   "source": [
    "yt_climb_dataset = pd.DataFrame({'video_Id':[],\n",
    "                                 'title':[],\n",
    "                                 'video_url':[],\n",
    "                                 'sex': [],\n",
    "                                 'search_term':[],\n",
    "                                 'start_min':[],\n",
    "                                 'start_sec':[],\n",
    "                                 'end_min':[],\n",
    "                                 'end_sec':[],\n",
    "                                 'duration':[],\n",
    "                                 'pose_label':[]})"
   ]
  },
  {
   "cell_type": "code",
   "execution_count": 174,
   "id": "f15afac3",
   "metadata": {},
   "outputs": [],
   "source": [
    "base_url  = 'http://www.youtube.com'\n",
    "\n",
    "driver = Chrome()\n",
    "driver.maximize_window()\n",
    "\n",
    "driver.get(base_url)\n",
    "time.sleep(2)\n",
    "assert 'YouTube' in driver.title"
   ]
  },
  {
   "cell_type": "code",
   "execution_count": 175,
   "id": "7bd4b25b",
   "metadata": {},
   "outputs": [],
   "source": [
    "def get_video_info():\n",
    "    html_source = driver.page_source\n",
    "    soup = BeautifulSoup(html_source, 'lxml')\n",
    "    \n",
    "    return soup\n",
    "\n",
    "def parsing_data():\n",
    "    soup = get_video_info()\n",
    "    elem = soup.find_all(\"ytd-video-renderer\", \n",
    "                         attrs={\"class\":'style-scope ytd-item-section-renderer'})\n",
    "    \n",
    "    data = []\n",
    "    for t in elem:\n",
    "        title = t.find(\"yt-formatted-string\", attrs={\"class\":'style-scope ytd-video-renderer'}).get_text()\n",
    "        name = t.find(\"a\", attrs={\"class\":'yt-simple-endpoint style-scope yt-formatted-string'}).get_text()\n",
    "        content_url = t.find(\"a\", attrs={\"class\":'yt-simple-endpoint style-scope ytd-video-renderer'})[\"href\"]\n",
    "        data.append({'Author': name, 'Title': title, 'URL': 'https://www.youtube.com/' + content_url})\n",
    "    \n",
    "    return pd.DataFrame(data)\n",
    "\n",
    "def scroll_page(page_num= 10):\n",
    "    body = driver.find_element(By.TAG_NAME,'body')\n",
    "    while page_num:\n",
    "        body.send_keys(Keys.PAGE_DOWN)\n",
    "        time.sleep(1.5)\n",
    "        page_num-=1\n",
    "\n",
    "    return parsing_data()\n",
    "\n",
    "def search_keyword(keyword):\n",
    "    search = driver.find_element(By.NAME,'search_query')\n",
    "    time.sleep(2)\n",
    "    \n",
    "    search.send_keys(keyword)\n",
    "    search.send_keys(Keys.ENTER)\n",
    "    \n",
    "    return"
   ]
  },
  {
   "cell_type": "code",
   "execution_count": 176,
   "id": "1d738dbc",
   "metadata": {},
   "outputs": [],
   "source": [
    "search_words=[\"climbing training\",\n",
    "              \"climbing v5\",\n",
    "              \"climbing v6\",\n",
    "              \"climbing v7\",\n",
    "              \"climbing v8\",\n",
    "              \"climbing v9\",\n",
    "              \"climbing v10\",\n",
    "              \"climbing v11\",\n",
    "             ]"
   ]
  },
  {
   "cell_type": "code",
   "execution_count": 177,
   "id": "c592fcbc",
   "metadata": {},
   "outputs": [],
   "source": [
    "dfs = []\n",
    "\n",
    "for i,element in enumerate(search_words):\n",
    "    search_keyword(element)\n",
    "    new_df = scroll_page()\n",
    "    dfs.append(new_df)\n",
    "    dfs[i]['search_keyword'] = element\n",
    "    driver.get(base_url)\n",
    "    time.sleep(2)\n",
    "    \n",
    "test_df = pd.concat(dfs, ignore_index=True)\n",
    "test_df = test_df.drop_duplicates(subset='Title', keep='first')"
   ]
  },
  {
   "cell_type": "code",
   "execution_count": 178,
   "id": "c6f4ce9a",
   "metadata": {},
   "outputs": [
    {
     "data": {
      "text/plain": [
       "Title\n",
       "I Trained Like A Professional Climber for 40 DAYS                                                   1\n",
       "can i still climb v8 after a YEAR?                                                                  1\n",
       "How many V8+ boulders can Louis do in 90 minutes??                                                  1\n",
       "Kept Barndooring on this V8 #bouldering #climb #climbing #movement #heelhook #fortworth #parkour    1\n",
       "V8! #outdoors #wow #awesome #climb #climbing #tough #foryou #fyp                                    1\n",
       "                                                                                                   ..\n",
       "Worlds Hardest V6? ||  1% chance to do this climb!                                                  1\n",
       "Mental Training for Climbing | How training my EYES helped me send V6                               1\n",
       "Bouldering v4 to v6: 3 different types of problems                                                  1\n",
       "V6/7A Boulder Problem #bouldering #shorts #climbing                                                 1\n",
       "FrictionLabs Pro and legally blind climber Justin Salas climbs Worm Turns, V11!                     1\n",
       "Name: count, Length: 257, dtype: int64"
      ]
     },
     "execution_count": 178,
     "metadata": {},
     "output_type": "execute_result"
    }
   ],
   "source": [
    "test_df['Title'].value_counts()"
   ]
  },
  {
   "cell_type": "code",
   "execution_count": 179,
   "id": "376c6c0c",
   "metadata": {},
   "outputs": [],
   "source": [
    "test_df['duration_sec'] = test_df['URL'].map(lambda x: int(YouTube(x).length))"
   ]
  },
  {
   "cell_type": "code",
   "execution_count": 180,
   "id": "dfe62b1f",
   "metadata": {},
   "outputs": [
    {
     "data": {
      "text/plain": [
       "0       960\n",
       "1      1434\n",
       "2      4149\n",
       "3      1402\n",
       "4      1708\n",
       "       ... \n",
       "304      50\n",
       "305      56\n",
       "306      86\n",
       "307      75\n",
       "308      61\n",
       "Name: duration_sec, Length: 257, dtype: int64"
      ]
     },
     "execution_count": 180,
     "metadata": {},
     "output_type": "execute_result"
    }
   ],
   "source": [
    "test_df['duration_sec']"
   ]
  },
  {
   "cell_type": "code",
   "execution_count": 181,
   "id": "f7d0d4e6",
   "metadata": {},
   "outputs": [
    {
     "data": {
      "text/html": [
       "<div>\n",
       "<style scoped>\n",
       "    .dataframe tbody tr th:only-of-type {\n",
       "        vertical-align: middle;\n",
       "    }\n",
       "\n",
       "    .dataframe tbody tr th {\n",
       "        vertical-align: top;\n",
       "    }\n",
       "\n",
       "    .dataframe thead th {\n",
       "        text-align: right;\n",
       "    }\n",
       "</style>\n",
       "<table border=\"1\" class=\"dataframe\">\n",
       "  <thead>\n",
       "    <tr style=\"text-align: right;\">\n",
       "      <th></th>\n",
       "      <th>Author</th>\n",
       "      <th>Title</th>\n",
       "      <th>URL</th>\n",
       "      <th>search_keyword</th>\n",
       "      <th>duration_sec</th>\n",
       "    </tr>\n",
       "  </thead>\n",
       "  <tbody>\n",
       "    <tr>\n",
       "      <th>0</th>\n",
       "      <td>Hannah Morris Bouldering</td>\n",
       "      <td>I Trained Like A Professional Climber for 40 DAYS</td>\n",
       "      <td>https://www.youtube.com//watch?v=txGhHkbPjCk&amp;p...</td>\n",
       "      <td>climbing training</td>\n",
       "      <td>960</td>\n",
       "    </tr>\n",
       "    <tr>\n",
       "      <th>1</th>\n",
       "      <td>HoseokClimb</td>\n",
       "      <td>My Rock Climbing Training Routine to V8 Reveal...</td>\n",
       "      <td>https://www.youtube.com//watch?v=IHHEKcfVIsg&amp;p...</td>\n",
       "      <td>climbing training</td>\n",
       "      <td>1434</td>\n",
       "    </tr>\n",
       "    <tr>\n",
       "      <th>2</th>\n",
       "      <td>Hooper's Beta</td>\n",
       "      <td>How to Train for Climbing [Full Body Guide ft....</td>\n",
       "      <td>https://www.youtube.com//watch?v=Iy8wi_u5oFI&amp;p...</td>\n",
       "      <td>climbing training</td>\n",
       "      <td>4149</td>\n",
       "    </tr>\n",
       "    <tr>\n",
       "      <th>3</th>\n",
       "      <td>Adam Ondra</td>\n",
       "      <td>Climb Smart: Boulder Training Efficiency ⚡ | T...</td>\n",
       "      <td>https://www.youtube.com//watch?v=SLJTwFQE10A&amp;p...</td>\n",
       "      <td>climbing training</td>\n",
       "      <td>1402</td>\n",
       "    </tr>\n",
       "    <tr>\n",
       "      <th>4</th>\n",
       "      <td>Adam Ondra</td>\n",
       "      <td>Most Climbers Should Train LIKE THIS | Adam On...</td>\n",
       "      <td>https://www.youtube.com//watch?v=xCu89k1aGWo&amp;p...</td>\n",
       "      <td>climbing training</td>\n",
       "      <td>1708</td>\n",
       "    </tr>\n",
       "    <tr>\n",
       "      <th>...</th>\n",
       "      <td>...</td>\n",
       "      <td>...</td>\n",
       "      <td>...</td>\n",
       "      <td>...</td>\n",
       "      <td>...</td>\n",
       "    </tr>\n",
       "    <tr>\n",
       "      <th>252</th>\n",
       "      <td>Sam Rothstein</td>\n",
       "      <td>Dreamland V11</td>\n",
       "      <td>https://www.youtube.com//watch?v=G9jW-L8zxAk&amp;p...</td>\n",
       "      <td>climbing v11</td>\n",
       "      <td>50</td>\n",
       "    </tr>\n",
       "    <tr>\n",
       "      <th>253</th>\n",
       "      <td>UKClimbing</td>\n",
       "      <td>Highball Fall from Samson (Font 8A/V11)  #clim...</td>\n",
       "      <td>https://www.youtube.com//shorts/YnqBwB4EwsU</td>\n",
       "      <td>climbing v11</td>\n",
       "      <td>56</td>\n",
       "    </tr>\n",
       "    <tr>\n",
       "      <th>254</th>\n",
       "      <td>Jorge Loredo</td>\n",
       "      <td>“Chung Li” V11 🦧 climbing through a roof!!</td>\n",
       "      <td>https://www.youtube.com//watch?v=gcVg6WEe3J4&amp;p...</td>\n",
       "      <td>climbing v11</td>\n",
       "      <td>86</td>\n",
       "    </tr>\n",
       "    <tr>\n",
       "      <th>255</th>\n",
       "      <td>Tension Climbing</td>\n",
       "      <td>Roy Quanstrom sends \"King Tut\" V11 in Red Feather</td>\n",
       "      <td>https://www.youtube.com//watch?v=kSWIWgTvM-4&amp;p...</td>\n",
       "      <td>climbing v11</td>\n",
       "      <td>75</td>\n",
       "    </tr>\n",
       "    <tr>\n",
       "      <th>256</th>\n",
       "      <td>FrictionLabs</td>\n",
       "      <td>FrictionLabs Pro and legally blind climber Jus...</td>\n",
       "      <td>https://www.youtube.com//watch?v=pOHHCdUx_7M&amp;p...</td>\n",
       "      <td>climbing v11</td>\n",
       "      <td>61</td>\n",
       "    </tr>\n",
       "  </tbody>\n",
       "</table>\n",
       "<p>257 rows × 5 columns</p>\n",
       "</div>"
      ],
      "text/plain": [
       "                       Author  \\\n",
       "0    Hannah Morris Bouldering   \n",
       "1                 HoseokClimb   \n",
       "2               Hooper's Beta   \n",
       "3                  Adam Ondra   \n",
       "4                  Adam Ondra   \n",
       "..                        ...   \n",
       "252             Sam Rothstein   \n",
       "253                UKClimbing   \n",
       "254              Jorge Loredo   \n",
       "255          Tension Climbing   \n",
       "256              FrictionLabs   \n",
       "\n",
       "                                                 Title  \\\n",
       "0    I Trained Like A Professional Climber for 40 DAYS   \n",
       "1    My Rock Climbing Training Routine to V8 Reveal...   \n",
       "2    How to Train for Climbing [Full Body Guide ft....   \n",
       "3    Climb Smart: Boulder Training Efficiency ⚡ | T...   \n",
       "4    Most Climbers Should Train LIKE THIS | Adam On...   \n",
       "..                                                 ...   \n",
       "252                                      Dreamland V11   \n",
       "253  Highball Fall from Samson (Font 8A/V11)  #clim...   \n",
       "254         “Chung Li” V11 🦧 climbing through a roof!!   \n",
       "255  Roy Quanstrom sends \"King Tut\" V11 in Red Feather   \n",
       "256  FrictionLabs Pro and legally blind climber Jus...   \n",
       "\n",
       "                                                   URL     search_keyword  \\\n",
       "0    https://www.youtube.com//watch?v=txGhHkbPjCk&p...  climbing training   \n",
       "1    https://www.youtube.com//watch?v=IHHEKcfVIsg&p...  climbing training   \n",
       "2    https://www.youtube.com//watch?v=Iy8wi_u5oFI&p...  climbing training   \n",
       "3    https://www.youtube.com//watch?v=SLJTwFQE10A&p...  climbing training   \n",
       "4    https://www.youtube.com//watch?v=xCu89k1aGWo&p...  climbing training   \n",
       "..                                                 ...                ...   \n",
       "252  https://www.youtube.com//watch?v=G9jW-L8zxAk&p...       climbing v11   \n",
       "253        https://www.youtube.com//shorts/YnqBwB4EwsU       climbing v11   \n",
       "254  https://www.youtube.com//watch?v=gcVg6WEe3J4&p...       climbing v11   \n",
       "255  https://www.youtube.com//watch?v=kSWIWgTvM-4&p...       climbing v11   \n",
       "256  https://www.youtube.com//watch?v=pOHHCdUx_7M&p...       climbing v11   \n",
       "\n",
       "     duration_sec  \n",
       "0             960  \n",
       "1            1434  \n",
       "2            4149  \n",
       "3            1402  \n",
       "4            1708  \n",
       "..            ...  \n",
       "252            50  \n",
       "253            56  \n",
       "254            86  \n",
       "255            75  \n",
       "256            61  \n",
       "\n",
       "[257 rows x 5 columns]"
      ]
     },
     "execution_count": 181,
     "metadata": {},
     "output_type": "execute_result"
    }
   ],
   "source": [
    "test_df = test_df.reset_index(drop=True)\n",
    "test_df"
   ]
  },
  {
   "cell_type": "code",
   "execution_count": 182,
   "id": "a841304f",
   "metadata": {},
   "outputs": [],
   "source": [
    "test_df.to_csv('climb_video_url.csv', index=False)"
   ]
  },
  {
   "cell_type": "code",
   "execution_count": null,
   "id": "5b9baae4",
   "metadata": {},
   "outputs": [],
   "source": []
  }
 ],
 "metadata": {
  "kernelspec": {
   "display_name": "Python 3 (ipykernel)",
   "language": "python",
   "name": "python3"
  },
  "language_info": {
   "codemirror_mode": {
    "name": "ipython",
    "version": 3
   },
   "file_extension": ".py",
   "mimetype": "text/x-python",
   "name": "python",
   "nbconvert_exporter": "python",
   "pygments_lexer": "ipython3",
   "version": "3.10.11"
  }
 },
 "nbformat": 4,
 "nbformat_minor": 5
}
